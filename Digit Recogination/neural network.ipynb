{
 "cells": [
  {
   "cell_type": "code",
   "execution_count": 5,
   "metadata": {},
   "outputs": [
    {
     "name": "stderr",
     "output_type": "stream",
     "text": [
      "Matplotlib is building the font cache; this may take a moment.\n"
     ]
    }
   ],
   "source": [
    "import numpy as np # linear algebra\n",
    "import pandas as pd # data processing, CSV file I/O (e.g. pd.read_csv)\n",
    "import matplotlib.pyplot as plt"
   ]
  },
  {
   "cell_type": "code",
   "execution_count": 7,
   "metadata": {},
   "outputs": [],
   "source": [
    "# Load the dataset\n",
    "df = pd.read_csv('sample_submission.csv')\n"
   ]
  },
  {
   "cell_type": "code",
   "execution_count": 13,
   "metadata": {},
   "outputs": [],
   "source": [
    "# Read the data\n",
    "train_data = pd.read_csv('train.csv')\n",
    "test_data = pd.read_csv('test.csv')"
   ]
  },
  {
   "cell_type": "code",
   "execution_count": 14,
   "metadata": {},
   "outputs": [],
   "source": [
    "# Set up the data\n",
    "y_train = train_data['label'].values\n",
    "X_train = train_data.drop(columns=['label']).values/255\n",
    "X_test = test_data.values/255"
   ]
  },
  {
   "cell_type": "code",
   "execution_count": 15,
   "metadata": {},
   "outputs": [
    {
     "data": {
      "image/png": "[encoded data removed]",
      "text/plain": [
       "<Figure size 1200x500 with 10 Axes>"
      ]
     },
     "metadata": {},
     "output_type": "display_data"
    }
   ],
   "source": [
    "fig, axes = plt.subplots(2,5, figsize=(12,5))\n",
    "axes = axes.flatten()\n",
    "idx = np.random.randint(0,42000,size=10)\n",
    "for i in range(10):\n",
    "    axes[i].imshow(X_train[idx[i],:].reshape(28,28), cmap='gray')\n",
    "    axes[i].axis('off') # hide the axes ticks\n",
    "    axes[i].set_title(str(int(y_train[idx[i]])), color= 'black', fontsize=25)\n",
    "plt.show()"
   ]
  },
  {
   "cell_type": "code",
   "execution_count": 16,
   "metadata": {},
   "outputs": [],
   "source": [
    "# relu activation function\n",
    "# THE fastest vectorized implementation for ReLU\n",
    "def relu(x):\n",
    "    x[x<0]=0\n",
    "    return x"
   ]
  },
  {
   "cell_type": "code",
   "execution_count": 17,
   "metadata": {},
   "outputs": [],
   "source": [
    "def h(X,W,b):\n",
    "    '''\n",
    "    Hypothesis function: simple FNN with 1 hidden layer\n",
    "    Layer 1: input\n",
    "    Layer 2: hidden layer, with a size implied by the arguments W[0], b\n",
    "    Layer 3: output layer, with a size implied by the arguments W[1]\n",
    "    '''\n",
    "    # layer 1 = input layer\n",
    "    a1 = X\n",
    "    # layer 1 (input layer) -> layer 2 (hidden layer)\n",
    "    z1 = np.matmul(X, W[0]) + b[0]\n",
    "    \n",
    "    # add one more layer if applicable\n",
    "    \n",
    "    # layer 2 activation\n",
    "    a2 = relu(z1)\n",
    "    # layer 2 (hidden layer) -> layer 3 (output layer)\n",
    "    z2 = np.matmul(a2, W[1])\n",
    "    s = np.exp(z2)\n",
    "    total = np.sum(s, axis=1).reshape(-1,1)\n",
    "    sigma = s/total\n",
    "    # the output is a probability for each sample\n",
    "    return sigma\n"
   ]
  },
  {
   "cell_type": "code",
   "execution_count": 18,
   "metadata": {},
   "outputs": [],
   "source": [
    "def softmax(X_in,weights):\n",
    "    '''\n",
    "    Un-used cell for demo\n",
    "    activation function for the last FC layer: softmax function \n",
    "    Output: K probabilities represent an estimate of P(y=k|X_in;weights) for k=1,...,K\n",
    "    the weights has shape (n, K)\n",
    "    n: the number of features X_in has\n",
    "    n = X_in.shape[1]\n",
    "    K: the number of classes\n",
    "    K = 10\n",
    "    '''\n",
    "    \n",
    "    s = np.exp(np.matmul(X_in,weights))\n",
    "    total = np.sum(s, axis=1).reshape(-1,1)\n",
    "    return s / total"
   ]
  },
  {
   "cell_type": "code",
   "execution_count": 20,
   "metadata": {},
   "outputs": [],
   "source": [
    "def loss(y_pred,y_true):\n",
    "    \n",
    "    global K \n",
    "    K = 10\n",
    "    N = len(y_true)\n",
    "    # loss_sample stores the cross entropy for each sample in X\n",
    "    # convert y_true from labels to one-hot-vector encoding\n",
    "    y_true_one_hot_vec = (y_true[:,np.newaxis] == np.arange(K))\n",
    "    loss_sample = (np.log(y_pred) * y_true_one_hot_vec).sum(axis=1)\n",
    "    # loss_sample is a dimension (N,) array\n",
    "    # for the final loss, we need take the average\n",
    "    return -np.mean(loss_sample)"
   ]
  },
  {
   "cell_type": "markdown",
   "metadata": {},
   "source": [
    "'''\n",
    "    Loss function: cross entropy with an L^2 regularization\n",
    "    y_true: ground truth, of shape (N, )\n",
    "    y_pred: prediction made by the model, of shape (N, K) \n",
    "    N: number of samples in the batch\n",
    "    K: global variable, number of classes\n",
    "    '''"
   ]
  },
  {
   "cell_type": "code",
   "execution_count": 21,
   "metadata": {},
   "outputs": [],
   "source": [
    "def backprop(W,b,X,y,alpha=1e-4):\n",
    "    '''\n",
    "    Step 1: explicit forward pass h(X;W,b)\n",
    "    Step 2: backpropagation for dW and db\n",
    "    '''\n",
    "    K = 10\n",
    "    N = X.shape[0]\n",
    "    \n",
    "    ### Step 1:\n",
    "    # layer 1 = input layer\n",
    "    a1 = X\n",
    "    # layer 1 (input layer) -> layer 2 (hidden layer)\n",
    "    z1 = np.matmul(X, W[0]) + b[0]\n",
    "    # layer 2 activation\n",
    "    a2 = relu(z1)\n",
    "    \n",
    "    # one more layer\n",
    "    \n",
    "    # layer 2 (hidden layer) -> layer 3 (output layer)\n",
    "    z2 = np.matmul(a2, W[1])\n",
    "    s = np.exp(z2)\n",
    "    total = np.sum(s, axis=1).reshape(-1,1)\n",
    "    sigma = s/total\n",
    "    \n",
    "    ### Step 2:\n",
    "    \n",
    "    # layer 2->layer 3 weights' derivative\n",
    "    # delta2 is \\partial L/partial z2, of shape (N,K)\n",
    "    y_one_hot_vec = (y[:,np.newaxis] == np.arange(K))\n",
    "    delta2 = (sigma - y_one_hot_vec)\n",
    "    grad_W1 = np.matmul(a2.T, delta2)\n",
    "    \n",
    "    # layer 1->layer 2 weights' derivative\n",
    "    # delta1 is \\partial a2/partial z1\n",
    "    # layer 2 activation's (weak) derivative is 1*(z1>0)\n",
    "    delta1 = np.matmul(delta2, W[1].T)*(z1>0)\n",
    "    grad_W0 = np.matmul(X.T, delta1)\n",
    "    \n",
    "    # Possible student project: extra layer of derivative\n",
    "    \n",
    "    # no derivative for layer 1\n",
    "\n",
    "     # the alpha part is the derivative for the regularization\n",
    "    # regularization = 0.5*alpha*(np.sum(W[1]**2) + np.sum(W[0]**2))\n",
    "    \n",
    "    \n",
    "    dW = [grad_W0/N + alpha*W[0], grad_W1/N + alpha*W[1]]\n",
    "    db = [np.mean(delta1, axis=0)]\n",
    "    # dW[0] is W[0]'s derivative, and dW[1] is W[1]'s derivative; similar for db\n",
    "    return dW, db"
   ]
  },
  {
   "cell_type": "code",
   "execution_count": 22,
   "metadata": {},
   "outputs": [],
   "source": [
    "eta = 5e-1\n",
    "alpha = 1e-6 # regularization\n",
    "gamma = 0.99 # RMSprop\n",
    "eps = 1e-3 # RMSprop\n",
    "num_iter = 1000 # number of iterations of gradient descent\n",
    "n_H = 256 # number of neurons in the hidden layer\n",
    "n = X_train.shape[1] # number of pixels in an image\n",
    "K = 10"
   ]
  },
  {
   "cell_type": "code",
   "execution_count": 23,
   "metadata": {},
   "outputs": [],
   "source": [
    "# initialization\n",
    "np.random.seed(1127825)\n",
    "W = [1e-1*np.random.randn(n, n_H), 1e-1*np.random.randn(n_H, K)]\n",
    "b = [np.random.randn(n_H)]"
   ]
  },
  {
   "cell_type": "code",
   "execution_count": 25,
   "metadata": {},
   "outputs": [
    {
     "name": "stdout",
     "output_type": "stream",
     "text": [
      "Cross-entropy loss after 1 iterations is 0.086250979\n",
      "Training accuracy after 1 iterations is 97.5548%\n",
      "Cross-entropy loss after 501 iterations is 0.066575166\n",
      "Training accuracy after 501 iterations is 98.0714%\n",
      "Final cross-entropy loss is 0.051285411\n",
      "Final training accuracy is 98.5548%\n",
      "CPU times: total: 1h 3min 27s\n",
      "Wall time: 1h 12min 14s\n"
     ]
    }
   ],
   "source": [
    "%%time\n",
    "gW0 = gW1 = gb0 = 1\n",
    "\n",
    "for i in range(num_iter):\n",
    "    dW, db = backprop(W,b,X_train,y_train,alpha)\n",
    "    \n",
    "    gW0 = gamma*gW0 + (1-gamma)*np.sum(dW[0]**2)\n",
    "    etaW0 = eta/np.sqrt(gW0 + eps)\n",
    "    W[0] -= etaW0 * dW[0]\n",
    "    \n",
    "    gW1 = gamma*gW1 + (1-gamma)*np.sum(dW[1]**2)\n",
    "    etaW1 = eta/np.sqrt(gW1 + eps)\n",
    "    W[1] -= etaW1 * dW[1]\n",
    "    \n",
    "    gb0 = gamma*gb0 + (1-gamma)*np.sum(db[0]**2)\n",
    "    etab0 = eta/np.sqrt(gb0 + eps)\n",
    "    b[0] -= etab0 * db[0]\n",
    "    \n",
    "    if i % 500 == 0:\n",
    "        # sanity check 1\n",
    "        y_pred = h(X_train,W,b)\n",
    "        print(\"Cross-entropy loss after\", i+1, \"iterations is {:.8}\".format(\n",
    "              loss(y_pred,y_train)))\n",
    "        print(\"Training accuracy after\", i+1, \"iterations is {:.4%}\".format( \n",
    "              np.mean(np.argmax(y_pred, axis=1)== y_train)))\n",
    "        \n",
    "y_pred_final = h(X_train,W,b)\n",
    "print(\"Final cross-entropy loss is {:.8}\".format(loss(y_pred_final,y_train)))\n",
    "print(\"Final training accuracy is {:.4%}\".format(np.mean(np.argmax(y_pred_final, axis=1)== y_train)))"
   ]
  },
  {
   "cell_type": "code",
   "execution_count": 26,
   "metadata": {},
   "outputs": [],
   "source": [
    "# predictions\n",
    "y_pred_test = np.argmax(h(X_test,W,b), axis=1)"
   ]
  },
  {
   "cell_type": "code",
   "execution_count": 27,
   "metadata": {},
   "outputs": [],
   "source": [
    "# Generating submission using pandas for grading\n",
    "submission = pd.DataFrame({'ImageId': range(1,len(X_test)+1) ,'Label': y_pred_test })\n",
    "submission.to_csv(\"simplemnist_result.csv\",index=False)"
   ]
  }
 ],
 "metadata": {
  "kernelspec": {
   "display_name": "Python 3",
   "language": "python",
   "name": "python3"
  },
  "language_info": {
   "codemirror_mode": {
    "name": "ipython",
    "version": 3
   },
   "file_extension": ".py",
   "mimetype": "text/x-python",
   "name": "python",
   "nbconvert_exporter": "python",
   "pygments_lexer": "ipython3",
   "version": "3.11.5"
  }
 },
 "nbformat": 4,
 "nbformat_minor": 2
}
